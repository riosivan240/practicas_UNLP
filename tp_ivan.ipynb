{
 "cells": [
  {
   "cell_type": "markdown",
   "id": "0d33664f-6d32-4f66-baf7-5cc4c4c25d69",
   "metadata": {},
   "source": [
    "# Actividad 9\n",
    "# 🔍 Parte 1: Análisis de Lagos Argentinos con Python\n",
    "Objetivo: Repasar manipulación de datos con Pandas e introducir valores nulos y mapas con Folium.\n",
    "\n"
   ]
  },
  {
   "cell_type": "markdown",
   "id": "0e0b8025-f70f-4327-9987-b8c1d99a2ce9",
   "metadata": {},
   "source": [
    "#  La información de nuestros datos \n",
    "* ¿Cómo comunicamos la información analizada sobre los datos?\n",
    "* ¿Cómo conocemos la composición de los datos?\n",
    "* ¿Qué recursos podemos usar para comunicar los resultados de los análisis?:\n",
    "    * Cantidad de lagos por provincia.\n",
    "    * Cantidad de lagos por tamaño.\n",
    "  "
   ]
  },
  {
   "cell_type": "markdown",
   "id": "88662355-e8f2-4c2a-869e-9867649e5fd3",
   "metadata": {},
   "source": [
    "# ✅ Etapa 1: Exploración Básica (10 min)\n",
    "* Consigna 1: Cargá el dataset y utiliza las operaciones básicas para conocer el contenido del dataset:\n",
    "* [Lagos Argentinos](https://archivos.linti.unlp.edu.ar/index.php/s/LBNPS7EdmNSwt8z).\n",
    "    * Nombre del archivo: lagos_arg.csv\n",
    "    * Descargado de: https://www.ign.gob.ar/NuestrasActividades/Geografia/DatosArgentina/Lagos\n",
    "* Cantidad de filas y columans\n",
    "* Nombres de las columnas\n",
    "* Tipos de datos de las columnas\n",
    "* Ver las primeras 10 filas del dataset"
   ]
  },
  {
   "cell_type": "markdown",
   "id": "a568ff9c-e2f7-44cf-8d81-6795e289dfd2",
   "metadata": {},
   "source": [
    "## La cantidad de filas y columnas del dataset"
   ]
  },
  {
   "cell_type": "code",
   "execution_count": 2,
   "id": "0b6ac24f-ec93-4c01-ac05-95810d6385c4",
   "metadata": {},
   "outputs": [],
   "source": [
    "import pandas as pd\n",
    "lagos = pd.read_csv(\"lagos.csv\")"
   ]
  },
  {
   "cell_type": "markdown",
   "id": "f8e8d497-efb8-4678-9e52-0c9d141cd6c1",
   "metadata": {},
   "source": [
    "## Nombres de las columnas"
   ]
  },
  {
   "cell_type": "code",
   "execution_count": 3,
   "id": "cf1f7664-4ae3-4a43-9ffc-0f72af6b93d5",
   "metadata": {},
   "outputs": [
    {
     "data": {
      "text/plain": [
       "Index(['Nombre', 'Ubicación', 'Superficie (km²)', 'Profundidad máxima (m)',\n",
       "       'Profundidad media (m)', 'Coordenadas', 'Sup Tamaño', 'Latitud en GMS',\n",
       "       'Longitud en GMS', 'lat', 'lng'],\n",
       "      dtype='object')"
      ]
     },
     "execution_count": 3,
     "metadata": {},
     "output_type": "execute_result"
    }
   ],
   "source": [
    "lagos.columns"
   ]
  },
  {
   "cell_type": "markdown",
   "id": "93b30bb2-9b7f-4211-81a1-3ae8a2c2c3d1",
   "metadata": {},
   "source": [
    "## Tipo de datos de las columnas"
   ]
  },
  {
   "cell_type": "markdown",
   "id": "cc56a499-0f42-4643-9425-5d3660b3b156",
   "metadata": {},
   "source": [
    "## Primeras 10 filas del dataset"
   ]
  },
  {
   "cell_type": "code",
   "execution_count": 4,
   "id": "42ec31f6-20c4-40d2-8abc-fd15ba40dabb",
   "metadata": {},
   "outputs": [
    {
     "data": {
      "text/html": [
       "<div>\n",
       "<style scoped>\n",
       "    .dataframe tbody tr th:only-of-type {\n",
       "        vertical-align: middle;\n",
       "    }\n",
       "\n",
       "    .dataframe tbody tr th {\n",
       "        vertical-align: top;\n",
       "    }\n",
       "\n",
       "    .dataframe thead th {\n",
       "        text-align: right;\n",
       "    }\n",
       "</style>\n",
       "<table border=\"1\" class=\"dataframe\">\n",
       "  <thead>\n",
       "    <tr style=\"text-align: right;\">\n",
       "      <th></th>\n",
       "      <th>Nombre</th>\n",
       "      <th>Ubicación</th>\n",
       "      <th>Superficie (km²)</th>\n",
       "      <th>Profundidad máxima (m)</th>\n",
       "      <th>Profundidad media (m)</th>\n",
       "      <th>Coordenadas</th>\n",
       "      <th>Sup Tamaño</th>\n",
       "      <th>Latitud en GMS</th>\n",
       "      <th>Longitud en GMS</th>\n",
       "      <th>lat</th>\n",
       "      <th>lng</th>\n",
       "    </tr>\n",
       "  </thead>\n",
       "  <tbody>\n",
       "    <tr>\n",
       "      <th>0</th>\n",
       "      <td>Lago Argentino</td>\n",
       "      <td>Santa Cruz</td>\n",
       "      <td>1435</td>\n",
       "      <td>500.0</td>\n",
       "      <td>150.0</td>\n",
       "      <td>50°14'53\"S 72°38'43\"O</td>\n",
       "      <td>grande</td>\n",
       "      <td>50°14'53\"S</td>\n",
       "      <td>72°38'43\"O</td>\n",
       "      <td>-50.248056</td>\n",
       "      <td>-72.645278</td>\n",
       "    </tr>\n",
       "    <tr>\n",
       "      <th>1</th>\n",
       "      <td>Lago Viedma</td>\n",
       "      <td>Santa Cruz</td>\n",
       "      <td>1166</td>\n",
       "      <td>NaN</td>\n",
       "      <td>NaN</td>\n",
       "      <td>49°37'27\"S 72°29'42\"O</td>\n",
       "      <td>grande</td>\n",
       "      <td>49°37'27\"S</td>\n",
       "      <td>72°29'42\"O</td>\n",
       "      <td>-49.624167</td>\n",
       "      <td>-72.495000</td>\n",
       "    </tr>\n",
       "    <tr>\n",
       "      <th>2</th>\n",
       "      <td>Lago Nahuel Huapi</td>\n",
       "      <td>Río Negro / Neuquén</td>\n",
       "      <td>540</td>\n",
       "      <td>464.0</td>\n",
       "      <td>157.0</td>\n",
       "      <td>40°51'16\"S 71°36'58\"O</td>\n",
       "      <td>grande</td>\n",
       "      <td>40°51'16\"S</td>\n",
       "      <td>71°36'58\"O</td>\n",
       "      <td>-40.854444</td>\n",
       "      <td>-71.616111</td>\n",
       "    </tr>\n",
       "    <tr>\n",
       "      <th>3</th>\n",
       "      <td>Lago Musters</td>\n",
       "      <td>Chubut</td>\n",
       "      <td>427</td>\n",
       "      <td>39.0</td>\n",
       "      <td>20.0</td>\n",
       "      <td>45°24'53\"S 69°11'52\"O</td>\n",
       "      <td>grande</td>\n",
       "      <td>45°24'53\"S</td>\n",
       "      <td>69°11'52\"O</td>\n",
       "      <td>-45.414722</td>\n",
       "      <td>-69.197778</td>\n",
       "    </tr>\n",
       "    <tr>\n",
       "      <th>4</th>\n",
       "      <td>Lago Cardiel</td>\n",
       "      <td>Santa Cruz</td>\n",
       "      <td>358</td>\n",
       "      <td>NaN</td>\n",
       "      <td>49.0</td>\n",
       "      <td>48°55'3\"S 71°12'53\"O</td>\n",
       "      <td>grande</td>\n",
       "      <td>48°55'3\"S</td>\n",
       "      <td>71°12'53\"O</td>\n",
       "      <td>-48.917500</td>\n",
       "      <td>-71.214722</td>\n",
       "    </tr>\n",
       "    <tr>\n",
       "      <th>5</th>\n",
       "      <td>Lago Epecuén</td>\n",
       "      <td>Buenos Aires</td>\n",
       "      <td>156</td>\n",
       "      <td>11.0</td>\n",
       "      <td>7.0</td>\n",
       "      <td>37°7'45\"S 62°51'53\"O</td>\n",
       "      <td>grande</td>\n",
       "      <td>37°7'45\"S</td>\n",
       "      <td>62°51'53\"O</td>\n",
       "      <td>-37.129167</td>\n",
       "      <td>-62.864722</td>\n",
       "    </tr>\n",
       "    <tr>\n",
       "      <th>6</th>\n",
       "      <td>Lago Pellegrini</td>\n",
       "      <td>Río Negro</td>\n",
       "      <td>116</td>\n",
       "      <td>NaN</td>\n",
       "      <td>NaN</td>\n",
       "      <td>38°42'25\"S 67°58'23\"O</td>\n",
       "      <td>grande</td>\n",
       "      <td>38°42'25\"S</td>\n",
       "      <td>67°58'23\"O</td>\n",
       "      <td>-38.706944</td>\n",
       "      <td>-67.973056</td>\n",
       "    </tr>\n",
       "    <tr>\n",
       "      <th>7</th>\n",
       "      <td>Lago Strobel</td>\n",
       "      <td>Santa Cruz</td>\n",
       "      <td>100</td>\n",
       "      <td>NaN</td>\n",
       "      <td>NaN</td>\n",
       "      <td>48°25'58\"S 71°11'25\"O</td>\n",
       "      <td>grande</td>\n",
       "      <td>48°25'58\"S</td>\n",
       "      <td>71°11'25\"O</td>\n",
       "      <td>-48.432778</td>\n",
       "      <td>-71.190278</td>\n",
       "    </tr>\n",
       "    <tr>\n",
       "      <th>8</th>\n",
       "      <td>Lago Fontana</td>\n",
       "      <td>Chubut</td>\n",
       "      <td>84</td>\n",
       "      <td>NaN</td>\n",
       "      <td>79.0</td>\n",
       "      <td>44°55'17\"S 71°29'45\"O</td>\n",
       "      <td>grande</td>\n",
       "      <td>44°55'17\"S</td>\n",
       "      <td>71°29'45\"O</td>\n",
       "      <td>-44.921389</td>\n",
       "      <td>-71.495833</td>\n",
       "    </tr>\n",
       "    <tr>\n",
       "      <th>9</th>\n",
       "      <td>Lago Huechulafquen</td>\n",
       "      <td>Neuquén</td>\n",
       "      <td>84</td>\n",
       "      <td>NaN</td>\n",
       "      <td>142.0</td>\n",
       "      <td>39°46'28\"S 71°30'32\"O</td>\n",
       "      <td>grande</td>\n",
       "      <td>39°46'28\"S</td>\n",
       "      <td>71°30'32\"O</td>\n",
       "      <td>-39.774444</td>\n",
       "      <td>-71.508889</td>\n",
       "    </tr>\n",
       "  </tbody>\n",
       "</table>\n",
       "</div>"
      ],
      "text/plain": [
       "               Nombre            Ubicación  Superficie (km²)  \\\n",
       "0      Lago Argentino           Santa Cruz              1435   \n",
       "1         Lago Viedma           Santa Cruz              1166   \n",
       "2   Lago Nahuel Huapi  Río Negro / Neuquén               540   \n",
       "3        Lago Musters               Chubut               427   \n",
       "4        Lago Cardiel           Santa Cruz               358   \n",
       "5        Lago Epecuén         Buenos Aires               156   \n",
       "6     Lago Pellegrini            Río Negro               116   \n",
       "7        Lago Strobel           Santa Cruz               100   \n",
       "8        Lago Fontana               Chubut                84   \n",
       "9  Lago Huechulafquen              Neuquén                84   \n",
       "\n",
       "   Profundidad máxima (m)  Profundidad media (m)            Coordenadas  \\\n",
       "0                   500.0                  150.0  50°14'53\"S 72°38'43\"O   \n",
       "1                     NaN                    NaN  49°37'27\"S 72°29'42\"O   \n",
       "2                   464.0                  157.0  40°51'16\"S 71°36'58\"O   \n",
       "3                    39.0                   20.0  45°24'53\"S 69°11'52\"O   \n",
       "4                     NaN                   49.0   48°55'3\"S 71°12'53\"O   \n",
       "5                    11.0                    7.0   37°7'45\"S 62°51'53\"O   \n",
       "6                     NaN                    NaN  38°42'25\"S 67°58'23\"O   \n",
       "7                     NaN                    NaN  48°25'58\"S 71°11'25\"O   \n",
       "8                     NaN                   79.0  44°55'17\"S 71°29'45\"O   \n",
       "9                     NaN                  142.0  39°46'28\"S 71°30'32\"O   \n",
       "\n",
       "  Sup Tamaño Latitud en GMS Longitud en GMS        lat        lng  \n",
       "0     grande     50°14'53\"S      72°38'43\"O -50.248056 -72.645278  \n",
       "1     grande     49°37'27\"S      72°29'42\"O -49.624167 -72.495000  \n",
       "2     grande     40°51'16\"S      71°36'58\"O -40.854444 -71.616111  \n",
       "3     grande     45°24'53\"S      69°11'52\"O -45.414722 -69.197778  \n",
       "4     grande      48°55'3\"S      71°12'53\"O -48.917500 -71.214722  \n",
       "5     grande      37°7'45\"S      62°51'53\"O -37.129167 -62.864722  \n",
       "6     grande     38°42'25\"S      67°58'23\"O -38.706944 -67.973056  \n",
       "7     grande     48°25'58\"S      71°11'25\"O -48.432778 -71.190278  \n",
       "8     grande     44°55'17\"S      71°29'45\"O -44.921389 -71.495833  \n",
       "9     grande     39°46'28\"S      71°30'32\"O -39.774444 -71.508889  "
      ]
     },
     "execution_count": 4,
     "metadata": {},
     "output_type": "execute_result"
    }
   ],
   "source": [
    "lagos.head(10)"
   ]
  },
  {
   "cell_type": "markdown",
   "id": "2f4d05fa-4676-4b54-8e55-8399b2d080f9",
   "metadata": {},
   "source": [
    "# ✅ Etapa 2: Análisis por Provincia (15 min)\n",
    "* ¿En qué provincias hay lagos?\n",
    "* Cantidad de Lagos por provincia.\n",
    "* Gráfico de torta sobre la cantidad de lagos provincia.\n",
    "* Gráfico de barra sobre la cantidad de lagos provincia."
   ]
  },
  {
   "cell_type": "markdown",
   "id": "43cb70b5-4189-4527-a86e-2e51a36be85c",
   "metadata": {},
   "source": [
    "## Cantidad de Lagos por provincia"
   ]
  },
  {
   "cell_type": "code",
   "execution_count": 6,
   "id": "e2be9437-6584-4909-a5d5-3007c389b44a",
   "metadata": {},
   "outputs": [
    {
     "data": {
      "text/plain": [
       "Ubicación\n",
       "Santa Cruz                                               16\n",
       "Neuquén                                                  14\n",
       "Chubut                                                   13\n",
       "Río Negro                                                 4\n",
       "Tierra del Fuego, Antártida e Islas del Atlántico Sur     3\n",
       "Río Negro / Neuquén                                       1\n",
       "Buenos Aires                                              1\n",
       "Name: count, dtype: int64"
      ]
     },
     "execution_count": 6,
     "metadata": {},
     "output_type": "execute_result"
    }
   ],
   "source": [
    "lagos [\"Ubicación\"].value_counts()"
   ]
  },
  {
   "cell_type": "markdown",
   "id": "c3b7af8f-a73a-44f6-9976-a133ac8c55a4",
   "metadata": {},
   "source": [
    "## Gráfico de torta sobre la cantidad de lagos provincia"
   ]
  },
  {
   "cell_type": "code",
   "execution_count": 8,
   "id": "53adb724-70df-416e-90e8-879ec833a328",
   "metadata": {},
   "outputs": [],
   "source": [
    "import plotly.express as px"
   ]
  },
  {
   "cell_type": "code",
   "execution_count": 11,
   "id": "0fe236b0-02df-4274-bb4e-61280feee90b",
   "metadata": {},
   "outputs": [
    {
     "data": {
      "application/vnd.plotly.v1+json": {
       "config": {
        "plotlyServerURL": "https://plot.ly"
       },
       "data": [
        {
         "domain": {
          "x": [
           0,
           1
          ],
          "y": [
           0,
           1
          ]
         },
         "hovertemplate": "Ubicación=%{label}<br>value=%{value}<extra></extra>",
         "labels": [
          "Santa Cruz",
          "Neuquén",
          "Chubut",
          "Río Negro",
          "Tierra del Fuego, Antártida e Islas del Atlántico Sur",
          "Río Negro / Neuquén",
          "Buenos Aires"
         ],
         "legendgroup": "",
         "name": "",
         "showlegend": true,
         "type": "pie",
         "values": {
          "bdata": "EA4NBAMBAQ==",
          "dtype": "i1"
         }
        }
       ],
       "layout": {
        "legend": {
         "tracegroupgap": 0
        },
        "template": {
         "data": {
          "bar": [
           {
            "error_x": {
             "color": "#2a3f5f"
            },
            "error_y": {
             "color": "#2a3f5f"
            },
            "marker": {
             "line": {
              "color": "#E5ECF6",
              "width": 0.5
             },
             "pattern": {
              "fillmode": "overlay",
              "size": 10,
              "solidity": 0.2
             }
            },
            "type": "bar"
           }
          ],
          "barpolar": [
           {
            "marker": {
             "line": {
              "color": "#E5ECF6",
              "width": 0.5
             },
             "pattern": {
              "fillmode": "overlay",
              "size": 10,
              "solidity": 0.2
             }
            },
            "type": "barpolar"
           }
          ],
          "carpet": [
           {
            "aaxis": {
             "endlinecolor": "#2a3f5f",
             "gridcolor": "white",
             "linecolor": "white",
             "minorgridcolor": "white",
             "startlinecolor": "#2a3f5f"
            },
            "baxis": {
             "endlinecolor": "#2a3f5f",
             "gridcolor": "white",
             "linecolor": "white",
             "minorgridcolor": "white",
             "startlinecolor": "#2a3f5f"
            },
            "type": "carpet"
           }
          ],
          "choropleth": [
           {
            "colorbar": {
             "outlinewidth": 0,
             "ticks": ""
            },
            "type": "choropleth"
           }
          ],
          "contour": [
           {
            "colorbar": {
             "outlinewidth": 0,
             "ticks": ""
            },
            "colorscale": [
             [
              0,
              "#0d0887"
             ],
             [
              0.1111111111111111,
              "#46039f"
             ],
             [
              0.2222222222222222,
              "#7201a8"
             ],
             [
              0.3333333333333333,
              "#9c179e"
             ],
             [
              0.4444444444444444,
              "#bd3786"
             ],
             [
              0.5555555555555556,
              "#d8576b"
             ],
             [
              0.6666666666666666,
              "#ed7953"
             ],
             [
              0.7777777777777778,
              "#fb9f3a"
             ],
             [
              0.8888888888888888,
              "#fdca26"
             ],
             [
              1,
              "#f0f921"
             ]
            ],
            "type": "contour"
           }
          ],
          "contourcarpet": [
           {
            "colorbar": {
             "outlinewidth": 0,
             "ticks": ""
            },
            "type": "contourcarpet"
           }
          ],
          "heatmap": [
           {
            "colorbar": {
             "outlinewidth": 0,
             "ticks": ""
            },
            "colorscale": [
             [
              0,
              "#0d0887"
             ],
             [
              0.1111111111111111,
              "#46039f"
             ],
             [
              0.2222222222222222,
              "#7201a8"
             ],
             [
              0.3333333333333333,
              "#9c179e"
             ],
             [
              0.4444444444444444,
              "#bd3786"
             ],
             [
              0.5555555555555556,
              "#d8576b"
             ],
             [
              0.6666666666666666,
              "#ed7953"
             ],
             [
              0.7777777777777778,
              "#fb9f3a"
             ],
             [
              0.8888888888888888,
              "#fdca26"
             ],
             [
              1,
              "#f0f921"
             ]
            ],
            "type": "heatmap"
           }
          ],
          "histogram": [
           {
            "marker": {
             "pattern": {
              "fillmode": "overlay",
              "size": 10,
              "solidity": 0.2
             }
            },
            "type": "histogram"
           }
          ],
          "histogram2d": [
           {
            "colorbar": {
             "outlinewidth": 0,
             "ticks": ""
            },
            "colorscale": [
             [
              0,
              "#0d0887"
             ],
             [
              0.1111111111111111,
              "#46039f"
             ],
             [
              0.2222222222222222,
              "#7201a8"
             ],
             [
              0.3333333333333333,
              "#9c179e"
             ],
             [
              0.4444444444444444,
              "#bd3786"
             ],
             [
              0.5555555555555556,
              "#d8576b"
             ],
             [
              0.6666666666666666,
              "#ed7953"
             ],
             [
              0.7777777777777778,
              "#fb9f3a"
             ],
             [
              0.8888888888888888,
              "#fdca26"
             ],
             [
              1,
              "#f0f921"
             ]
            ],
            "type": "histogram2d"
           }
          ],
          "histogram2dcontour": [
           {
            "colorbar": {
             "outlinewidth": 0,
             "ticks": ""
            },
            "colorscale": [
             [
              0,
              "#0d0887"
             ],
             [
              0.1111111111111111,
              "#46039f"
             ],
             [
              0.2222222222222222,
              "#7201a8"
             ],
             [
              0.3333333333333333,
              "#9c179e"
             ],
             [
              0.4444444444444444,
              "#bd3786"
             ],
             [
              0.5555555555555556,
              "#d8576b"
             ],
             [
              0.6666666666666666,
              "#ed7953"
             ],
             [
              0.7777777777777778,
              "#fb9f3a"
             ],
             [
              0.8888888888888888,
              "#fdca26"
             ],
             [
              1,
              "#f0f921"
             ]
            ],
            "type": "histogram2dcontour"
           }
          ],
          "mesh3d": [
           {
            "colorbar": {
             "outlinewidth": 0,
             "ticks": ""
            },
            "type": "mesh3d"
           }
          ],
          "parcoords": [
           {
            "line": {
             "colorbar": {
              "outlinewidth": 0,
              "ticks": ""
             }
            },
            "type": "parcoords"
           }
          ],
          "pie": [
           {
            "automargin": true,
            "type": "pie"
           }
          ],
          "scatter": [
           {
            "fillpattern": {
             "fillmode": "overlay",
             "size": 10,
             "solidity": 0.2
            },
            "type": "scatter"
           }
          ],
          "scatter3d": [
           {
            "line": {
             "colorbar": {
              "outlinewidth": 0,
              "ticks": ""
             }
            },
            "marker": {
             "colorbar": {
              "outlinewidth": 0,
              "ticks": ""
             }
            },
            "type": "scatter3d"
           }
          ],
          "scattercarpet": [
           {
            "marker": {
             "colorbar": {
              "outlinewidth": 0,
              "ticks": ""
             }
            },
            "type": "scattercarpet"
           }
          ],
          "scattergeo": [
           {
            "marker": {
             "colorbar": {
              "outlinewidth": 0,
              "ticks": ""
             }
            },
            "type": "scattergeo"
           }
          ],
          "scattergl": [
           {
            "marker": {
             "colorbar": {
              "outlinewidth": 0,
              "ticks": ""
             }
            },
            "type": "scattergl"
           }
          ],
          "scattermap": [
           {
            "marker": {
             "colorbar": {
              "outlinewidth": 0,
              "ticks": ""
             }
            },
            "type": "scattermap"
           }
          ],
          "scattermapbox": [
           {
            "marker": {
             "colorbar": {
              "outlinewidth": 0,
              "ticks": ""
             }
            },
            "type": "scattermapbox"
           }
          ],
          "scatterpolar": [
           {
            "marker": {
             "colorbar": {
              "outlinewidth": 0,
              "ticks": ""
             }
            },
            "type": "scatterpolar"
           }
          ],
          "scatterpolargl": [
           {
            "marker": {
             "colorbar": {
              "outlinewidth": 0,
              "ticks": ""
             }
            },
            "type": "scatterpolargl"
           }
          ],
          "scatterternary": [
           {
            "marker": {
             "colorbar": {
              "outlinewidth": 0,
              "ticks": ""
             }
            },
            "type": "scatterternary"
           }
          ],
          "surface": [
           {
            "colorbar": {
             "outlinewidth": 0,
             "ticks": ""
            },
            "colorscale": [
             [
              0,
              "#0d0887"
             ],
             [
              0.1111111111111111,
              "#46039f"
             ],
             [
              0.2222222222222222,
              "#7201a8"
             ],
             [
              0.3333333333333333,
              "#9c179e"
             ],
             [
              0.4444444444444444,
              "#bd3786"
             ],
             [
              0.5555555555555556,
              "#d8576b"
             ],
             [
              0.6666666666666666,
              "#ed7953"
             ],
             [
              0.7777777777777778,
              "#fb9f3a"
             ],
             [
              0.8888888888888888,
              "#fdca26"
             ],
             [
              1,
              "#f0f921"
             ]
            ],
            "type": "surface"
           }
          ],
          "table": [
           {
            "cells": {
             "fill": {
              "color": "#EBF0F8"
             },
             "line": {
              "color": "white"
             }
            },
            "header": {
             "fill": {
              "color": "#C8D4E3"
             },
             "line": {
              "color": "white"
             }
            },
            "type": "table"
           }
          ]
         },
         "layout": {
          "annotationdefaults": {
           "arrowcolor": "#2a3f5f",
           "arrowhead": 0,
           "arrowwidth": 1
          },
          "autotypenumbers": "strict",
          "coloraxis": {
           "colorbar": {
            "outlinewidth": 0,
            "ticks": ""
           }
          },
          "colorscale": {
           "diverging": [
            [
             0,
             "#8e0152"
            ],
            [
             0.1,
             "#c51b7d"
            ],
            [
             0.2,
             "#de77ae"
            ],
            [
             0.3,
             "#f1b6da"
            ],
            [
             0.4,
             "#fde0ef"
            ],
            [
             0.5,
             "#f7f7f7"
            ],
            [
             0.6,
             "#e6f5d0"
            ],
            [
             0.7,
             "#b8e186"
            ],
            [
             0.8,
             "#7fbc41"
            ],
            [
             0.9,
             "#4d9221"
            ],
            [
             1,
             "#276419"
            ]
           ],
           "sequential": [
            [
             0,
             "#0d0887"
            ],
            [
             0.1111111111111111,
             "#46039f"
            ],
            [
             0.2222222222222222,
             "#7201a8"
            ],
            [
             0.3333333333333333,
             "#9c179e"
            ],
            [
             0.4444444444444444,
             "#bd3786"
            ],
            [
             0.5555555555555556,
             "#d8576b"
            ],
            [
             0.6666666666666666,
             "#ed7953"
            ],
            [
             0.7777777777777778,
             "#fb9f3a"
            ],
            [
             0.8888888888888888,
             "#fdca26"
            ],
            [
             1,
             "#f0f921"
            ]
           ],
           "sequentialminus": [
            [
             0,
             "#0d0887"
            ],
            [
             0.1111111111111111,
             "#46039f"
            ],
            [
             0.2222222222222222,
             "#7201a8"
            ],
            [
             0.3333333333333333,
             "#9c179e"
            ],
            [
             0.4444444444444444,
             "#bd3786"
            ],
            [
             0.5555555555555556,
             "#d8576b"
            ],
            [
             0.6666666666666666,
             "#ed7953"
            ],
            [
             0.7777777777777778,
             "#fb9f3a"
            ],
            [
             0.8888888888888888,
             "#fdca26"
            ],
            [
             1,
             "#f0f921"
            ]
           ]
          },
          "colorway": [
           "#636efa",
           "#EF553B",
           "#00cc96",
           "#ab63fa",
           "#FFA15A",
           "#19d3f3",
           "#FF6692",
           "#B6E880",
           "#FF97FF",
           "#FECB52"
          ],
          "font": {
           "color": "#2a3f5f"
          },
          "geo": {
           "bgcolor": "white",
           "lakecolor": "white",
           "landcolor": "#E5ECF6",
           "showlakes": true,
           "showland": true,
           "subunitcolor": "white"
          },
          "hoverlabel": {
           "align": "left"
          },
          "hovermode": "closest",
          "mapbox": {
           "style": "light"
          },
          "paper_bgcolor": "white",
          "plot_bgcolor": "#E5ECF6",
          "polar": {
           "angularaxis": {
            "gridcolor": "white",
            "linecolor": "white",
            "ticks": ""
           },
           "bgcolor": "#E5ECF6",
           "radialaxis": {
            "gridcolor": "white",
            "linecolor": "white",
            "ticks": ""
           }
          },
          "scene": {
           "xaxis": {
            "backgroundcolor": "#E5ECF6",
            "gridcolor": "white",
            "gridwidth": 2,
            "linecolor": "white",
            "showbackground": true,
            "ticks": "",
            "zerolinecolor": "white"
           },
           "yaxis": {
            "backgroundcolor": "#E5ECF6",
            "gridcolor": "white",
            "gridwidth": 2,
            "linecolor": "white",
            "showbackground": true,
            "ticks": "",
            "zerolinecolor": "white"
           },
           "zaxis": {
            "backgroundcolor": "#E5ECF6",
            "gridcolor": "white",
            "gridwidth": 2,
            "linecolor": "white",
            "showbackground": true,
            "ticks": "",
            "zerolinecolor": "white"
           }
          },
          "shapedefaults": {
           "line": {
            "color": "#2a3f5f"
           }
          },
          "ternary": {
           "aaxis": {
            "gridcolor": "white",
            "linecolor": "white",
            "ticks": ""
           },
           "baxis": {
            "gridcolor": "white",
            "linecolor": "white",
            "ticks": ""
           },
           "bgcolor": "#E5ECF6",
           "caxis": {
            "gridcolor": "white",
            "linecolor": "white",
            "ticks": ""
           }
          },
          "title": {
           "x": 0.05
          },
          "xaxis": {
           "automargin": true,
           "gridcolor": "white",
           "linecolor": "white",
           "ticks": "",
           "title": {
            "standoff": 15
           },
           "zerolinecolor": "white",
           "zerolinewidth": 2
          },
          "yaxis": {
           "automargin": true,
           "gridcolor": "white",
           "linecolor": "white",
           "ticks": "",
           "title": {
            "standoff": 15
           },
           "zerolinecolor": "white",
           "zerolinewidth": 2
          }
         }
        },
        "title": {
         "text": "lagos"
        }
       }
      },
      "image/png": "[encoded data removed]"
     },
     "metadata": {},
     "output_type": "display_data"
    }
   ],
   "source": [
    "cantidad_lagos = lagos [\"Ubicación\"].value_counts()\n",
    "px.pie(data_frame = cantidad_lagos, values = cantidad_lagos.values, names = cantidad_lagos.index, title = \"lagos\").show()"
   ]
  },
  {
   "cell_type": "markdown",
   "id": "07a14e63-0f98-4ae2-9a81-a93dc22cb899",
   "metadata": {},
   "source": [
    "## Gráfico de barra sobre la cantidad de lagos provincia"
   ]
  },
  {
   "cell_type": "code",
   "execution_count": 12,
   "id": "fb812eb0-f3fe-45b4-8989-9c3291e6cf58",
   "metadata": {},
   "outputs": [
    {
     "data": {
      "application/vnd.plotly.v1+json": {
       "config": {
        "plotlyServerURL": "https://plot.ly"
       },
       "data": [
        {
         "hovertemplate": "x=%{x}<br>y=%{y}<extra></extra>",
         "legendgroup": "",
         "marker": {
          "color": "#636efa",
          "pattern": {
           "shape": ""
          }
         },
         "name": "",
         "orientation": "v",
         "showlegend": false,
         "textposition": "auto",
         "type": "bar",
         "x": [
          "Santa Cruz",
          "Neuquén",
          "Chubut",
          "Río Negro",
          "Tierra del Fuego, Antártida e Islas del Atlántico Sur",
          "Río Negro / Neuquén",
          "Buenos Aires"
         ],
         "xaxis": "x",
         "y": {
          "bdata": "EA4NBAMBAQ==",
          "dtype": "i1"
         },
         "yaxis": "y"
        }
       ],
       "layout": {
        "barmode": "relative",
        "legend": {
         "tracegroupgap": 0
        },
        "template": {
         "data": {
          "bar": [
           {
            "error_x": {
             "color": "#2a3f5f"
            },
            "error_y": {
             "color": "#2a3f5f"
            },
            "marker": {
             "line": {
              "color": "#E5ECF6",
              "width": 0.5
             },
             "pattern": {
              "fillmode": "overlay",
              "size": 10,
              "solidity": 0.2
             }
            },
            "type": "bar"
           }
          ],
          "barpolar": [
           {
            "marker": {
             "line": {
              "color": "#E5ECF6",
              "width": 0.5
             },
             "pattern": {
              "fillmode": "overlay",
              "size": 10,
              "solidity": 0.2
             }
            },
            "type": "barpolar"
           }
          ],
          "carpet": [
           {
            "aaxis": {
             "endlinecolor": "#2a3f5f",
             "gridcolor": "white",
             "linecolor": "white",
             "minorgridcolor": "white",
             "startlinecolor": "#2a3f5f"
            },
            "baxis": {
             "endlinecolor": "#2a3f5f",
             "gridcolor": "white",
             "linecolor": "white",
             "minorgridcolor": "white",
             "startlinecolor": "#2a3f5f"
            },
            "type": "carpet"
           }
          ],
          "choropleth": [
           {
            "colorbar": {
             "outlinewidth": 0,
             "ticks": ""
            },
            "type": "choropleth"
           }
          ],
          "contour": [
           {
            "colorbar": {
             "outlinewidth": 0,
             "ticks": ""
            },
            "colorscale": [
             [
              0,
              "#0d0887"
             ],
             [
              0.1111111111111111,
              "#46039f"
             ],
             [
              0.2222222222222222,
              "#7201a8"
             ],
             [
              0.3333333333333333,
              "#9c179e"
             ],
             [
              0.4444444444444444,
              "#bd3786"
             ],
             [
              0.5555555555555556,
              "#d8576b"
             ],
             [
              0.6666666666666666,
              "#ed7953"
             ],
             [
              0.7777777777777778,
              "#fb9f3a"
             ],
             [
              0.8888888888888888,
              "#fdca26"
             ],
             [
              1,
              "#f0f921"
             ]
            ],
            "type": "contour"
           }
          ],
          "contourcarpet": [
           {
            "colorbar": {
             "outlinewidth": 0,
             "ticks": ""
            },
            "type": "contourcarpet"
           }
          ],
          "heatmap": [
           {
            "colorbar": {
             "outlinewidth": 0,
             "ticks": ""
            },
            "colorscale": [
             [
              0,
              "#0d0887"
             ],
             [
              0.1111111111111111,
              "#46039f"
             ],
             [
              0.2222222222222222,
              "#7201a8"
             ],
             [
              0.3333333333333333,
              "#9c179e"
             ],
             [
              0.4444444444444444,
              "#bd3786"
             ],
             [
              0.5555555555555556,
              "#d8576b"
             ],
             [
              0.6666666666666666,
              "#ed7953"
             ],
             [
              0.7777777777777778,
              "#fb9f3a"
             ],
             [
              0.8888888888888888,
              "#fdca26"
             ],
             [
              1,
              "#f0f921"
             ]
            ],
            "type": "heatmap"
           }
          ],
          "histogram": [
           {
            "marker": {
             "pattern": {
              "fillmode": "overlay",
              "size": 10,
              "solidity": 0.2
             }
            },
            "type": "histogram"
           }
          ],
          "histogram2d": [
           {
            "colorbar": {
             "outlinewidth": 0,
             "ticks": ""
            },
            "colorscale": [
             [
              0,
              "#0d0887"
             ],
             [
              0.1111111111111111,
              "#46039f"
             ],
             [
              0.2222222222222222,
              "#7201a8"
             ],
             [
              0.3333333333333333,
              "#9c179e"
             ],
             [
              0.4444444444444444,
              "#bd3786"
             ],
             [
              0.5555555555555556,
              "#d8576b"
             ],
             [
              0.6666666666666666,
              "#ed7953"
             ],
             [
              0.7777777777777778,
              "#fb9f3a"
             ],
             [
              0.8888888888888888,
              "#fdca26"
             ],
             [
              1,
              "#f0f921"
             ]
            ],
            "type": "histogram2d"
           }
          ],
          "histogram2dcontour": [
           {
            "colorbar": {
             "outlinewidth": 0,
             "ticks": ""
            },
            "colorscale": [
             [
              0,
              "#0d0887"
             ],
             [
              0.1111111111111111,
              "#46039f"
             ],
             [
              0.2222222222222222,
              "#7201a8"
             ],
             [
              0.3333333333333333,
              "#9c179e"
             ],
             [
              0.4444444444444444,
              "#bd3786"
             ],
             [
              0.5555555555555556,
              "#d8576b"
             ],
             [
              0.6666666666666666,
              "#ed7953"
             ],
             [
              0.7777777777777778,
              "#fb9f3a"
             ],
             [
              0.8888888888888888,
              "#fdca26"
             ],
             [
              1,
              "#f0f921"
             ]
            ],
            "type": "histogram2dcontour"
           }
          ],
          "mesh3d": [
           {
            "colorbar": {
             "outlinewidth": 0,
             "ticks": ""
            },
            "type": "mesh3d"
           }
          ],
          "parcoords": [
           {
            "line": {
             "colorbar": {
              "outlinewidth": 0,
              "ticks": ""
             }
            },
            "type": "parcoords"
           }
          ],
          "pie": [
           {
            "automargin": true,
            "type": "pie"
           }
          ],
          "scatter": [
           {
            "fillpattern": {
             "fillmode": "overlay",
             "size": 10,
             "solidity": 0.2
            },
            "type": "scatter"
           }
          ],
          "scatter3d": [
           {
            "line": {
             "colorbar": {
              "outlinewidth": 0,
              "ticks": ""
             }
            },
            "marker": {
             "colorbar": {
              "outlinewidth": 0,
              "ticks": ""
             }
            },
            "type": "scatter3d"
           }
          ],
          "scattercarpet": [
           {
            "marker": {
             "colorbar": {
              "outlinewidth": 0,
              "ticks": ""
             }
            },
            "type": "scattercarpet"
           }
          ],
          "scattergeo": [
           {
            "marker": {
             "colorbar": {
              "outlinewidth": 0,
              "ticks": ""
             }
            },
            "type": "scattergeo"
           }
          ],
          "scattergl": [
           {
            "marker": {
             "colorbar": {
              "outlinewidth": 0,
              "ticks": ""
             }
            },
            "type": "scattergl"
           }
          ],
          "scattermap": [
           {
            "marker": {
             "colorbar": {
              "outlinewidth": 0,
              "ticks": ""
             }
            },
            "type": "scattermap"
           }
          ],
          "scattermapbox": [
           {
            "marker": {
             "colorbar": {
              "outlinewidth": 0,
              "ticks": ""
             }
            },
            "type": "scattermapbox"
           }
          ],
          "scatterpolar": [
           {
            "marker": {
             "colorbar": {
              "outlinewidth": 0,
              "ticks": ""
             }
            },
            "type": "scatterpolar"
           }
          ],
          "scatterpolargl": [
           {
            "marker": {
             "colorbar": {
              "outlinewidth": 0,
              "ticks": ""
             }
            },
            "type": "scatterpolargl"
           }
          ],
          "scatterternary": [
           {
            "marker": {
             "colorbar": {
              "outlinewidth": 0,
              "ticks": ""
             }
            },
            "type": "scatterternary"
           }
          ],
          "surface": [
           {
            "colorbar": {
             "outlinewidth": 0,
             "ticks": ""
            },
            "colorscale": [
             [
              0,
              "#0d0887"
             ],
             [
              0.1111111111111111,
              "#46039f"
             ],
             [
              0.2222222222222222,
              "#7201a8"
             ],
             [
              0.3333333333333333,
              "#9c179e"
             ],
             [
              0.4444444444444444,
              "#bd3786"
             ],
             [
              0.5555555555555556,
              "#d8576b"
             ],
             [
              0.6666666666666666,
              "#ed7953"
             ],
             [
              0.7777777777777778,
              "#fb9f3a"
             ],
             [
              0.8888888888888888,
              "#fdca26"
             ],
             [
              1,
              "#f0f921"
             ]
            ],
            "type": "surface"
           }
          ],
          "table": [
           {
            "cells": {
             "fill": {
              "color": "#EBF0F8"
             },
             "line": {
              "color": "white"
             }
            },
            "header": {
             "fill": {
              "color": "#C8D4E3"
             },
             "line": {
              "color": "white"
             }
            },
            "type": "table"
           }
          ]
         },
         "layout": {
          "annotationdefaults": {
           "arrowcolor": "#2a3f5f",
           "arrowhead": 0,
           "arrowwidth": 1
          },
          "autotypenumbers": "strict",
          "coloraxis": {
           "colorbar": {
            "outlinewidth": 0,
            "ticks": ""
           }
          },
          "colorscale": {
           "diverging": [
            [
             0,
             "#8e0152"
            ],
            [
             0.1,
             "#c51b7d"
            ],
            [
             0.2,
             "#de77ae"
            ],
            [
             0.3,
             "#f1b6da"
            ],
            [
             0.4,
             "#fde0ef"
            ],
            [
             0.5,
             "#f7f7f7"
            ],
            [
             0.6,
             "#e6f5d0"
            ],
            [
             0.7,
             "#b8e186"
            ],
            [
             0.8,
             "#7fbc41"
            ],
            [
             0.9,
             "#4d9221"
            ],
            [
             1,
             "#276419"
            ]
           ],
           "sequential": [
            [
             0,
             "#0d0887"
            ],
            [
             0.1111111111111111,
             "#46039f"
            ],
            [
             0.2222222222222222,
             "#7201a8"
            ],
            [
             0.3333333333333333,
             "#9c179e"
            ],
            [
             0.4444444444444444,
             "#bd3786"
            ],
            [
             0.5555555555555556,
             "#d8576b"
            ],
            [
             0.6666666666666666,
             "#ed7953"
            ],
            [
             0.7777777777777778,
             "#fb9f3a"
            ],
            [
             0.8888888888888888,
             "#fdca26"
            ],
            [
             1,
             "#f0f921"
            ]
           ],
           "sequentialminus": [
            [
             0,
             "#0d0887"
            ],
            [
             0.1111111111111111,
             "#46039f"
            ],
            [
             0.2222222222222222,
             "#7201a8"
            ],
            [
             0.3333333333333333,
             "#9c179e"
            ],
            [
             0.4444444444444444,
             "#bd3786"
            ],
            [
             0.5555555555555556,
             "#d8576b"
            ],
            [
             0.6666666666666666,
             "#ed7953"
            ],
            [
             0.7777777777777778,
             "#fb9f3a"
            ],
            [
             0.8888888888888888,
             "#fdca26"
            ],
            [
             1,
             "#f0f921"
            ]
           ]
          },
          "colorway": [
           "#636efa",
           "#EF553B",
           "#00cc96",
           "#ab63fa",
           "#FFA15A",
           "#19d3f3",
           "#FF6692",
           "#B6E880",
           "#FF97FF",
           "#FECB52"
          ],
          "font": {
           "color": "#2a3f5f"
          },
          "geo": {
           "bgcolor": "white",
           "lakecolor": "white",
           "landcolor": "#E5ECF6",
           "showlakes": true,
           "showland": true,
           "subunitcolor": "white"
          },
          "hoverlabel": {
           "align": "left"
          },
          "hovermode": "closest",
          "mapbox": {
           "style": "light"
          },
          "paper_bgcolor": "white",
          "plot_bgcolor": "#E5ECF6",
          "polar": {
           "angularaxis": {
            "gridcolor": "white",
            "linecolor": "white",
            "ticks": ""
           },
           "bgcolor": "#E5ECF6",
           "radialaxis": {
            "gridcolor": "white",
            "linecolor": "white",
            "ticks": ""
           }
          },
          "scene": {
           "xaxis": {
            "backgroundcolor": "#E5ECF6",
            "gridcolor": "white",
            "gridwidth": 2,
            "linecolor": "white",
            "showbackground": true,
            "ticks": "",
            "zerolinecolor": "white"
           },
           "yaxis": {
            "backgroundcolor": "#E5ECF6",
            "gridcolor": "white",
            "gridwidth": 2,
            "linecolor": "white",
            "showbackground": true,
            "ticks": "",
            "zerolinecolor": "white"
           },
           "zaxis": {
            "backgroundcolor": "#E5ECF6",
            "gridcolor": "white",
            "gridwidth": 2,
            "linecolor": "white",
            "showbackground": true,
            "ticks": "",
            "zerolinecolor": "white"
           }
          },
          "shapedefaults": {
           "line": {
            "color": "#2a3f5f"
           }
          },
          "ternary": {
           "aaxis": {
            "gridcolor": "white",
            "linecolor": "white",
            "ticks": ""
           },
           "baxis": {
            "gridcolor": "white",
            "linecolor": "white",
            "ticks": ""
           },
           "bgcolor": "#E5ECF6",
           "caxis": {
            "gridcolor": "white",
            "linecolor": "white",
            "ticks": ""
           }
          },
          "title": {
           "x": 0.05
          },
          "xaxis": {
           "automargin": true,
           "gridcolor": "white",
           "linecolor": "white",
           "ticks": "",
           "title": {
            "standoff": 15
           },
           "zerolinecolor": "white",
           "zerolinewidth": 2
          },
          "yaxis": {
           "automargin": true,
           "gridcolor": "white",
           "linecolor": "white",
           "ticks": "",
           "title": {
            "standoff": 15
           },
           "zerolinecolor": "white",
           "zerolinewidth": 2
          }
         }
        },
        "title": {
         "text": "lagos"
        },
        "xaxis": {
         "anchor": "y",
         "domain": [
          0,
          1
         ],
         "title": {
          "text": "x"
         }
        },
        "yaxis": {
         "anchor": "x",
         "domain": [
          0,
          1
         ],
         "title": {
          "text": "y"
         }
        }
       }
      },
      "image/png": "[encoded data removed]"
     },
     "metadata": {},
     "output_type": "display_data"
    }
   ],
   "source": [
    "cantidad_lagos = lagos [\"Ubicación\"].value_counts()\n",
    "fig = px.bar( x = cantidad_lagos.index, y = cantidad_lagos.values, title = \"lagos\")\n",
    "fig.show()"
   ]
  },
  {
   "cell_type": "markdown",
   "id": "a1c6b989-d175-429e-8cd1-b22b03dbb5ea",
   "metadata": {},
   "source": [
    "## ¿En qué provincias hay lagos?"
   ]
  },
  {
   "cell_type": "code",
   "execution_count": 13,
   "id": "b004f829-6032-4235-93ec-8ece18fe66e4",
   "metadata": {},
   "outputs": [
    {
     "data": {
      "text/plain": [
       "array(['Santa Cruz', 'Río Negro / Neuquén', 'Chubut', 'Buenos Aires',\n",
       "       'Río Negro', 'Neuquén',\n",
       "       'Tierra del Fuego, Antártida e Islas del Atlántico Sur'],\n",
       "      dtype=object)"
      ]
     },
     "execution_count": 13,
     "metadata": {},
     "output_type": "execute_result"
    }
   ],
   "source": [
    "lagos[\"Ubicación\"].unique()"
   ]
  },
  {
   "cell_type": "markdown",
   "id": "2a30678d-10d9-4404-8403-a1ca046ef279",
   "metadata": {},
   "source": [
    "# ✅ Etapa 3: Filtrar y Limpiar Datos (15 min)\n",
    "* Mostrar los lagos que son de la provincia de Neuquén. **Nota**: no te olvides de incluir el lago que está compartido con otra provincia, (isin([\"Neuquén\", \"Río Negro / Neuquén\"])]\n",
    "* Mostrar cómo modificaríamos si nos piden  reemplazar el valor de 'Río Negro / Neuquén' **por** 'Neuquén'?\n",
    "* Filtrá los lagos de Chubut con superficie menor a 10 km². **Nota**: dataframe[(condición1) & (condición2)]"
   ]
  },
  {
   "cell_type": "markdown",
   "id": "0678b9c1-f26f-4e75-9c9c-e9e15c7a624b",
   "metadata": {},
   "source": [
    "### Mostrar los lagos que son de la provincia de Neuquén"
   ]
  },
  {
   "cell_type": "code",
   "execution_count": 14,
   "id": "9fd4a8b8-b816-4b34-b56b-d60f42ef88b1",
   "metadata": {},
   "outputs": [
    {
     "data": {
      "text/html": [
       "<div>\n",
       "<style scoped>\n",
       "    .dataframe tbody tr th:only-of-type {\n",
       "        vertical-align: middle;\n",
       "    }\n",
       "\n",
       "    .dataframe tbody tr th {\n",
       "        vertical-align: top;\n",
       "    }\n",
       "\n",
       "    .dataframe thead th {\n",
       "        text-align: right;\n",
       "    }\n",
       "</style>\n",
       "<table border=\"1\" class=\"dataframe\">\n",
       "  <thead>\n",
       "    <tr style=\"text-align: right;\">\n",
       "      <th></th>\n",
       "      <th>Nombre</th>\n",
       "      <th>Ubicación</th>\n",
       "      <th>Superficie (km²)</th>\n",
       "      <th>Profundidad máxima (m)</th>\n",
       "      <th>Profundidad media (m)</th>\n",
       "      <th>Coordenadas</th>\n",
       "      <th>Sup Tamaño</th>\n",
       "      <th>Latitud en GMS</th>\n",
       "      <th>Longitud en GMS</th>\n",
       "      <th>lat</th>\n",
       "      <th>lng</th>\n",
       "    </tr>\n",
       "  </thead>\n",
       "  <tbody>\n",
       "    <tr>\n",
       "      <th>2</th>\n",
       "      <td>Lago Nahuel Huapi</td>\n",
       "      <td>Río Negro / Neuquén</td>\n",
       "      <td>540</td>\n",
       "      <td>464.0</td>\n",
       "      <td>157.0</td>\n",
       "      <td>40°51'16\"S 71°36'58\"O</td>\n",
       "      <td>grande</td>\n",
       "      <td>40°51'16\"S</td>\n",
       "      <td>71°36'58\"O</td>\n",
       "      <td>-40.854444</td>\n",
       "      <td>-71.616111</td>\n",
       "    </tr>\n",
       "    <tr>\n",
       "      <th>9</th>\n",
       "      <td>Lago Huechulafquen</td>\n",
       "      <td>Neuquén</td>\n",
       "      <td>84</td>\n",
       "      <td>NaN</td>\n",
       "      <td>142.0</td>\n",
       "      <td>39°46'28\"S 71°30'32\"O</td>\n",
       "      <td>grande</td>\n",
       "      <td>39°46'28\"S</td>\n",
       "      <td>71°30'32\"O</td>\n",
       "      <td>-39.774444</td>\n",
       "      <td>-71.508889</td>\n",
       "    </tr>\n",
       "    <tr>\n",
       "      <th>10</th>\n",
       "      <td>Lago Traful</td>\n",
       "      <td>Neuquén</td>\n",
       "      <td>78</td>\n",
       "      <td>NaN</td>\n",
       "      <td>NaN</td>\n",
       "      <td>40°37'50\"S 71°24'55\"O</td>\n",
       "      <td>grande</td>\n",
       "      <td>40°37'50\"S</td>\n",
       "      <td>71°24'55\"O</td>\n",
       "      <td>-40.630556</td>\n",
       "      <td>-71.415278</td>\n",
       "    </tr>\n",
       "    <tr>\n",
       "      <th>14</th>\n",
       "      <td>Lago Aluminé</td>\n",
       "      <td>Neuquén</td>\n",
       "      <td>58</td>\n",
       "      <td>165.0</td>\n",
       "      <td>64.0</td>\n",
       "      <td>38°55'18\"S 71°7'35\"O</td>\n",
       "      <td>medio</td>\n",
       "      <td>38°55'18\"S</td>\n",
       "      <td>71°7'35\"O</td>\n",
       "      <td>-38.921667</td>\n",
       "      <td>-71.126389</td>\n",
       "    </tr>\n",
       "    <tr>\n",
       "      <th>15</th>\n",
       "      <td>Lago Lácar</td>\n",
       "      <td>Neuquén</td>\n",
       "      <td>53</td>\n",
       "      <td>277.0</td>\n",
       "      <td>166.0</td>\n",
       "      <td>40°9'45\"S 71°26'11\"O</td>\n",
       "      <td>medio</td>\n",
       "      <td>40°9'45\"S</td>\n",
       "      <td>71°26'11\"O</td>\n",
       "      <td>-40.162500</td>\n",
       "      <td>-71.436389</td>\n",
       "    </tr>\n",
       "    <tr>\n",
       "      <th>23</th>\n",
       "      <td>Lago Espejo</td>\n",
       "      <td>Neuquén</td>\n",
       "      <td>40</td>\n",
       "      <td>NaN</td>\n",
       "      <td>NaN</td>\n",
       "      <td>40°40'33\"S 71°42'40\"O</td>\n",
       "      <td>medio</td>\n",
       "      <td>40°40'33\"S</td>\n",
       "      <td>71°42'40\"O</td>\n",
       "      <td>-40.675833</td>\n",
       "      <td>-71.711111</td>\n",
       "    </tr>\n",
       "    <tr>\n",
       "      <th>27</th>\n",
       "      <td>Lago Lolog</td>\n",
       "      <td>Neuquén</td>\n",
       "      <td>37</td>\n",
       "      <td>NaN</td>\n",
       "      <td>NaN</td>\n",
       "      <td>40°2'10\"S 71°32'11\"O</td>\n",
       "      <td>medio</td>\n",
       "      <td>40°2'10\"S</td>\n",
       "      <td>71°32'11\"O</td>\n",
       "      <td>-40.036111</td>\n",
       "      <td>-71.536389</td>\n",
       "    </tr>\n",
       "    <tr>\n",
       "      <th>29</th>\n",
       "      <td>Lago Tromen</td>\n",
       "      <td>Neuquén</td>\n",
       "      <td>29</td>\n",
       "      <td>NaN</td>\n",
       "      <td>69.0</td>\n",
       "      <td>39°31'33\"S 71°26'52\"O</td>\n",
       "      <td>medio</td>\n",
       "      <td>39°31'33\"S</td>\n",
       "      <td>71°26'52\"O</td>\n",
       "      <td>-39.525833</td>\n",
       "      <td>-71.447778</td>\n",
       "    </tr>\n",
       "    <tr>\n",
       "      <th>31</th>\n",
       "      <td>Lago Quillén</td>\n",
       "      <td>Neuquén</td>\n",
       "      <td>26</td>\n",
       "      <td>NaN</td>\n",
       "      <td>NaN</td>\n",
       "      <td>39°24'41\"S 71°18'52\"O</td>\n",
       "      <td>medio</td>\n",
       "      <td>39°24'41\"S</td>\n",
       "      <td>71°18'52\"O</td>\n",
       "      <td>-39.411389</td>\n",
       "      <td>-71.314444</td>\n",
       "    </tr>\n",
       "    <tr>\n",
       "      <th>34</th>\n",
       "      <td>Lago Moquehue</td>\n",
       "      <td>Neuquén</td>\n",
       "      <td>21</td>\n",
       "      <td>NaN</td>\n",
       "      <td>NaN</td>\n",
       "      <td>38°54'16\"S 71°16'26\"O</td>\n",
       "      <td>medio</td>\n",
       "      <td>38°54'16\"S</td>\n",
       "      <td>71°16'26\"O</td>\n",
       "      <td>-38.904444</td>\n",
       "      <td>-71.273889</td>\n",
       "    </tr>\n",
       "    <tr>\n",
       "      <th>35</th>\n",
       "      <td>Lago Correntoso</td>\n",
       "      <td>Neuquén</td>\n",
       "      <td>20</td>\n",
       "      <td>NaN</td>\n",
       "      <td>NaN</td>\n",
       "      <td>40°42'8\"S 71°39'35\"O</td>\n",
       "      <td>medio</td>\n",
       "      <td>40°42'8\"S</td>\n",
       "      <td>71°39'35\"O</td>\n",
       "      <td>-40.702222</td>\n",
       "      <td>-71.659722</td>\n",
       "    </tr>\n",
       "    <tr>\n",
       "      <th>41</th>\n",
       "      <td>Lago Paimún</td>\n",
       "      <td>Neuquén</td>\n",
       "      <td>16</td>\n",
       "      <td>NaN</td>\n",
       "      <td>66.0</td>\n",
       "      <td>39°43'27\"S 71°35'2\"O</td>\n",
       "      <td>chico</td>\n",
       "      <td>39°43'27\"S</td>\n",
       "      <td>71°35'2\"O</td>\n",
       "      <td>-39.724167</td>\n",
       "      <td>-71.583889</td>\n",
       "    </tr>\n",
       "    <tr>\n",
       "      <th>45</th>\n",
       "      <td>Lago Meliquina</td>\n",
       "      <td>Neuquén</td>\n",
       "      <td>14</td>\n",
       "      <td>NaN</td>\n",
       "      <td>NaN</td>\n",
       "      <td>40°19'60\"S 71°19'10\"O</td>\n",
       "      <td>chico</td>\n",
       "      <td>40°19'60\"S</td>\n",
       "      <td>71°19'10\"O</td>\n",
       "      <td>-40.333333</td>\n",
       "      <td>-71.319444</td>\n",
       "    </tr>\n",
       "    <tr>\n",
       "      <th>47</th>\n",
       "      <td>Lago Currhué</td>\n",
       "      <td>Neuquén</td>\n",
       "      <td>12</td>\n",
       "      <td>NaN</td>\n",
       "      <td>NaN</td>\n",
       "      <td>39°50'24\"S 71°30'27\"O</td>\n",
       "      <td>chico</td>\n",
       "      <td>39°50'24\"S</td>\n",
       "      <td>71°30'27\"O</td>\n",
       "      <td>-39.840000</td>\n",
       "      <td>-71.507500</td>\n",
       "    </tr>\n",
       "    <tr>\n",
       "      <th>48</th>\n",
       "      <td>Lago Falkner</td>\n",
       "      <td>Neuquén</td>\n",
       "      <td>11</td>\n",
       "      <td>NaN</td>\n",
       "      <td>NaN</td>\n",
       "      <td>40°29'6\"S 71°28'33\"O</td>\n",
       "      <td>chico</td>\n",
       "      <td>40°29'6\"S</td>\n",
       "      <td>71°28'33\"O</td>\n",
       "      <td>-40.485000</td>\n",
       "      <td>-71.475833</td>\n",
       "    </tr>\n",
       "  </tbody>\n",
       "</table>\n",
       "</div>"
      ],
      "text/plain": [
       "                Nombre            Ubicación  Superficie (km²)  \\\n",
       "2    Lago Nahuel Huapi  Río Negro / Neuquén               540   \n",
       "9   Lago Huechulafquen              Neuquén                84   \n",
       "10         Lago Traful              Neuquén                78   \n",
       "14        Lago Aluminé              Neuquén                58   \n",
       "15          Lago Lácar              Neuquén                53   \n",
       "23         Lago Espejo              Neuquén                40   \n",
       "27          Lago Lolog              Neuquén                37   \n",
       "29         Lago Tromen              Neuquén                29   \n",
       "31        Lago Quillén              Neuquén                26   \n",
       "34       Lago Moquehue              Neuquén                21   \n",
       "35     Lago Correntoso              Neuquén                20   \n",
       "41         Lago Paimún              Neuquén                16   \n",
       "45      Lago Meliquina              Neuquén                14   \n",
       "47        Lago Currhué              Neuquén                12   \n",
       "48        Lago Falkner              Neuquén                11   \n",
       "\n",
       "    Profundidad máxima (m)  Profundidad media (m)            Coordenadas  \\\n",
       "2                    464.0                  157.0  40°51'16\"S 71°36'58\"O   \n",
       "9                      NaN                  142.0  39°46'28\"S 71°30'32\"O   \n",
       "10                     NaN                    NaN  40°37'50\"S 71°24'55\"O   \n",
       "14                   165.0                   64.0   38°55'18\"S 71°7'35\"O   \n",
       "15                   277.0                  166.0   40°9'45\"S 71°26'11\"O   \n",
       "23                     NaN                    NaN  40°40'33\"S 71°42'40\"O   \n",
       "27                     NaN                    NaN   40°2'10\"S 71°32'11\"O   \n",
       "29                     NaN                   69.0  39°31'33\"S 71°26'52\"O   \n",
       "31                     NaN                    NaN  39°24'41\"S 71°18'52\"O   \n",
       "34                     NaN                    NaN  38°54'16\"S 71°16'26\"O   \n",
       "35                     NaN                    NaN   40°42'8\"S 71°39'35\"O   \n",
       "41                     NaN                   66.0   39°43'27\"S 71°35'2\"O   \n",
       "45                     NaN                    NaN  40°19'60\"S 71°19'10\"O   \n",
       "47                     NaN                    NaN  39°50'24\"S 71°30'27\"O   \n",
       "48                     NaN                    NaN   40°29'6\"S 71°28'33\"O   \n",
       "\n",
       "   Sup Tamaño Latitud en GMS Longitud en GMS        lat        lng  \n",
       "2      grande     40°51'16\"S      71°36'58\"O -40.854444 -71.616111  \n",
       "9      grande     39°46'28\"S      71°30'32\"O -39.774444 -71.508889  \n",
       "10     grande     40°37'50\"S      71°24'55\"O -40.630556 -71.415278  \n",
       "14      medio     38°55'18\"S       71°7'35\"O -38.921667 -71.126389  \n",
       "15      medio      40°9'45\"S      71°26'11\"O -40.162500 -71.436389  \n",
       "23      medio     40°40'33\"S      71°42'40\"O -40.675833 -71.711111  \n",
       "27      medio      40°2'10\"S      71°32'11\"O -40.036111 -71.536389  \n",
       "29      medio     39°31'33\"S      71°26'52\"O -39.525833 -71.447778  \n",
       "31      medio     39°24'41\"S      71°18'52\"O -39.411389 -71.314444  \n",
       "34      medio     38°54'16\"S      71°16'26\"O -38.904444 -71.273889  \n",
       "35      medio      40°42'8\"S      71°39'35\"O -40.702222 -71.659722  \n",
       "41      chico     39°43'27\"S       71°35'2\"O -39.724167 -71.583889  \n",
       "45      chico     40°19'60\"S      71°19'10\"O -40.333333 -71.319444  \n",
       "47      chico     39°50'24\"S      71°30'27\"O -39.840000 -71.507500  \n",
       "48      chico      40°29'6\"S      71°28'33\"O -40.485000 -71.475833  "
      ]
     },
     "execution_count": 14,
     "metadata": {},
     "output_type": "execute_result"
    }
   ],
   "source": [
    "lagos_neuquen = lagos[lagos [\"Ubicación\"].isin([\"Neuquén\", \"Río Negro / Neuquén\"])]\n",
    "lagos_neuquen"
   ]
  },
  {
   "cell_type": "markdown",
   "id": "9da4cafe-0eaf-43e4-be94-f8ec1e2d332c",
   "metadata": {},
   "source": [
    "## Mostrar cómo modificaríamos si nos piden  reemplazar el valor de 'Río Negro / Neuquén' **por** 'Neuquén'?"
   ]
  },
  {
   "cell_type": "code",
   "execution_count": null,
   "id": "12642ec7-deab-4154-8264-c4c2a83665bc",
   "metadata": {},
   "outputs": [],
   "source": [
    "lagos_neuquen = lagos[lagos [\"Ubicación\"].isin([\"Neuquén\", \"Río Negro / Neuquén\"])]\n",
    "lagos_neuquen"
   ]
  },
  {
   "cell_type": "markdown",
   "id": "47079f37-82d5-4a36-be20-3ae71844e05d",
   "metadata": {},
   "source": [
    "## Filtrá los lagos de Chubut con superficie menor a 10 km²"
   ]
  },
  {
   "cell_type": "code",
   "execution_count": null,
   "id": "81cac15c-51e4-48f7-9dc0-3dafb33e9e36",
   "metadata": {},
   "outputs": [],
   "source": []
  },
  {
   "cell_type": "markdown",
   "id": "53035ae7-aaf2-4569-9b8c-bf19c08ffc99",
   "metadata": {},
   "source": [
    "# ✅ Etapa 4: Valores Nulos y Estadísticas (10 min)\n",
    "* ¿Qué podemos analizar sobre los valores de la profundidad máxima y media de los lagos?\n",
    "* ¿Entre qué valores están ambas mediciones? **Nota**: describe().\n",
    "* Realicemos un gráfico de barras para comparar **Profundidad máxima** y **Profundidad media** de los lagos.\n",
    "    \n",
    "* ¿Hay valores nulos? **Nota**: info().\n",
    "* Investigar sobre gráficos tipo scatter o dispersión."
   ]
  },
  {
   "cell_type": "markdown",
   "id": "312d39ea-e0ba-4e78-a42a-fb5081e89a95",
   "metadata": {},
   "source": [
    "## ¿Qué podemos analizar sobre los valores de la profundidad máxima y media de los lagos?\n"
   ]
  },
  {
   "cell_type": "code",
   "execution_count": null,
   "id": "8e4c4476-396a-48b3-b499-c721a12049ba",
   "metadata": {},
   "outputs": [],
   "source": []
  },
  {
   "cell_type": "markdown",
   "id": "a14ca8ea-cc19-4e93-987c-1d5b8a4c5212",
   "metadata": {},
   "source": [
    "##  ¿Entre qué valores están ambas mediciones?"
   ]
  },
  {
   "cell_type": "code",
   "execution_count": null,
   "id": "6e554735-3c93-4cfd-a9da-f176ac7d026d",
   "metadata": {},
   "outputs": [],
   "source": []
  },
  {
   "cell_type": "markdown",
   "id": "95c3053d-160e-405e-9729-ff61076389fa",
   "metadata": {},
   "source": [
    "## Realicemos un gráfico para comparar **Profundidad máxima** y **Profundidad media** de los lagos."
   ]
  },
  {
   "cell_type": "code",
   "execution_count": null,
   "id": "12fa85cc-9cb9-4e15-8aef-db40245d7207",
   "metadata": {},
   "outputs": [],
   "source": [
    "import plotly.express as px\n",
    "fig = px.bar(completar, \n",
    "             x=\"Nombre\", \n",
    "             y=[\"nombre columna1\", \"nombre columna2\"],\n",
    "             barmode='group',\n",
    "             title=\"Comparación de Profundidades de Lagos\",\n",
    "             labels={\"value\": \"Metros\", \"variable\": \"Tipo de Profundidad\"},\n",
    "             color_discrete_sequence=[\"#1E90FF\", \"#00BFFF\"])\n",
    "\n",
    "fig.show()"
   ]
  },
  {
   "cell_type": "markdown",
   "id": "222d10e8-8318-4585-8683-e8b4a8828621",
   "metadata": {},
   "source": [
    "¿Qué pasa en con los datos de algunos lagos?"
   ]
  },
  {
   "cell_type": "markdown",
   "id": "b693802b-7a8f-4917-920d-ab434af4730f",
   "metadata": {},
   "source": [
    "## ¿Hay valores nulos? **Nota**: info()"
   ]
  },
  {
   "cell_type": "code",
   "execution_count": null,
   "id": "dcd79dac-72cb-48b8-9e6d-5c8134956552",
   "metadata": {},
   "outputs": [],
   "source": []
  },
  {
   "cell_type": "markdown",
   "id": "104e9cf7-e658-4b24-976c-251da55926a7",
   "metadata": {},
   "source": [
    "## Gráfico de dispersión"
   ]
  },
  {
   "cell_type": "markdown",
   "id": "b6b035d8-62c7-4e52-95c0-fad1a8dd2697",
   "metadata": {},
   "source": [
    "¿Qué datos compara este gráfico?"
   ]
  },
  {
   "cell_type": "code",
   "execution_count": null,
   "id": "dbb9201b-b068-4bb1-ad7a-ae6df39c358d",
   "metadata": {},
   "outputs": [],
   "source": [
    "fig = px.scatter(lagos, \n",
    "                 x=\"Profundidad media (m)\", \n",
    "                 y=\"Superficie (km²)\",\n",
    "                 \n",
    "                 title=\"Relación: Profundidad Media vs. Superficie\")  \n",
    "\n",
    "fig.update_traces(textposition='top center', marker=dict(size=12))\n",
    "fig.show()"
   ]
  },
  {
   "cell_type": "markdown",
   "id": "70403da3-ab22-4fd7-b655-a345dec601ea",
   "metadata": {},
   "source": [
    "Modificar el gráfico para que compare la longitud y la Superficie."
   ]
  },
  {
   "cell_type": "code",
   "execution_count": null,
   "id": "53de3173-63fd-4913-ac25-345b16909f7f",
   "metadata": {},
   "outputs": [],
   "source": []
  },
  {
   "cell_type": "markdown",
   "id": "a7a928ab-7b96-46b2-bd10-72413bb559fb",
   "metadata": {},
   "source": [
    "# ✅ Etapa 5: Visualización con Mapas (15 min)\n",
    "* Otro recurso para visualizar datos geolocalizados son los mapas.\n",
    "* Mostrar todos los lagos en un mapa.\n",
    "* Mostrar los lagos de Chubut solamente.\n",
    "* Mostrar los lagos con color según su tamaño.\n",
    "* Mostrar los datos de otro dataset.\n"
   ]
  },
  {
   "cell_type": "markdown",
   "id": "064068da-348e-4c50-8288-9600f3dc9db8",
   "metadata": {},
   "source": [
    "## La librería folium nos permite mostrar datos en mapas"
   ]
  },
  {
   "cell_type": "code",
   "execution_count": null,
   "id": "89ec42f7-dd1f-44a2-aafc-ef629138535a",
   "metadata": {},
   "outputs": [],
   "source": [
    "import folium"
   ]
  },
  {
   "cell_type": "markdown",
   "id": "098ef78a-5282-474e-840b-7fb6cb64386c",
   "metadata": {},
   "source": [
    "* ¿Qué datos nos indican un punto geográfico en un mapa?\n",
    "* ¿En qué columnas están estos datos?"
   ]
  },
  {
   "cell_type": "code",
   "execution_count": null,
   "id": "23ced665-e68d-48ab-acb0-923dcefc9fe0",
   "metadata": {},
   "outputs": [],
   "source": []
  },
  {
   "cell_type": "markdown",
   "id": "0e27d20e-c70f-4bf4-b6fc-05e5df1e8bee",
   "metadata": {},
   "source": [
    "## 📌 Paso 1.Vamos a generar un mapa **base** para luego agregar los puntos\n",
    "* Esta función configura un mapa para mostrar de la República Argentina, realizados por [Instituto Geográfico Nacional](https://www.ign.gob.ar/)\n",
    "* ¿Sabemos qué es una funciòn?"
   ]
  },
  {
   "cell_type": "code",
   "execution_count": null,
   "id": "b172e03e-f8c0-4a27-afc8-02258770c53b",
   "metadata": {},
   "outputs": [],
   "source": [
    "def generar_mapa():\n",
    "    attr = (\n",
    "        '&copy; <a href=\"https://www.openstreetmap.org/copyright\">OpenStreetMap</a> '\n",
    "        'contributors, &copy; <a href=\"https://cartodb.com/attributions\">CartoDB</a>'\n",
    "    )\n",
    "    \n",
    "    tiles = 'https://wms.ign.gob.ar/geoserver/gwc/service/tms/1.0.0/capabaseargenmap@EPSG%3A3857@png/{z}/{x}/{-y}.png'\n",
    "    m = folium.Map(\n",
    "        location=(-33.457606, -65.346857),\n",
    "        control_scale=True,\n",
    "        zoom_start=5,\n",
    "        name='es',\n",
    "        tiles=tiles,\n",
    "        attr=attr\n",
    "    )\n",
    "    return m"
   ]
  },
  {
   "cell_type": "markdown",
   "id": "c14796d7-45fa-489f-befe-9c8f8fa655ef",
   "metadata": {},
   "source": [
    "Usamos la función **generar_mapa** para tener nuestro mapa base"
   ]
  },
  {
   "cell_type": "code",
   "execution_count": null,
   "id": "917c2725-8d45-4d73-96b6-599a98a5397c",
   "metadata": {},
   "outputs": [],
   "source": [
    "mapa = generar_mapa()"
   ]
  },
  {
   "cell_type": "markdown",
   "id": "89141300-f394-47da-bf9c-7a5efb823b59",
   "metadata": {},
   "source": [
    "La variable **mapa** es nuestro mapa **base**"
   ]
  },
  {
   "cell_type": "markdown",
   "id": "29aedcd8-dee5-408e-9bf2-c2c2a1e005cb",
   "metadata": {},
   "source": [
    "## 📌 Paso 2. Definimos la función para poder agregar los puntos:\n",
    "En la celda de abajo pusimos el código de la función que permnite agregar los puntos:\n",
    "\n",
    "* la función **agregar_marca_lago** recibe cada fila e indicamos  los puntos que se encuentran en las columnas de las **coordenadas** de esta forma.\n",
    "```python\n",
    "[row['latitud'], row['longitud']],\n",
    "```\n",
    "* queremos que muestre el nombre del lago cuando hacemos clic sobre cada icono, ponemos el nombre de la columna **Nombre**,  donde se encuentra **ese dato**.\n",
    "```python\n",
    "popup=row['Nombre']\n",
    "```\n"
   ]
  },
  {
   "cell_type": "code",
   "execution_count": 12,
   "id": "9b8a3cbc-be01-4a7f-aa40-fece50fa9b4b",
   "metadata": {},
   "outputs": [],
   "source": [
    "def agregar_marca_lago(row):\n",
    "    folium.Marker(\n",
    "        [row['completar'], row['completar']],\n",
    "        popup=row['Nombre'],\n",
    "        icon=folium.Icon()\n",
    "        ).add_to(mapa)\n",
    "\n"
   ]
  },
  {
   "cell_type": "markdown",
   "id": "67f5027f-ee9d-4928-a380-1c6da8180198",
   "metadata": {},
   "source": [
    "## 📌 Paso 3. Agregamos los puntos al mapa:"
   ]
  },
  {
   "cell_type": "markdown",
   "id": "33df4c27-8ec1-424b-8900-ecb7ec4aa328",
   "metadata": {},
   "source": [
    "En la celda de abajo pusimos el código para poder agregar los puntos,  lo más importante para tener en cuenta:\n",
    "* el nombre de la variable que contiene los datos de los lagos **lagos** y para que agregue los puntos usamos:\n",
    "    * ```python\n",
    "      lagos.apply(nombre_funcion, axis=1)\n",
    "      ```\n",
    "* por úlitmo, mostramos el mapa, escribiendo el nombre de la variable del mapa."
   ]
  },
  {
   "cell_type": "code",
   "execution_count": null,
   "id": "c3a7e44a-37c6-46fb-a499-1796b2b2193c",
   "metadata": {},
   "outputs": [],
   "source": [
    "lagos.apply(agregar_marca_lago, axis=1)\n",
    "mapa"
   ]
  },
  {
   "cell_type": "markdown",
   "id": "132d5bc6-c287-471b-85bb-348560bd51dc",
   "metadata": {},
   "source": [
    "## Mostrar en un mapa los lagos de Chubut"
   ]
  },
  {
   "cell_type": "code",
   "execution_count": null,
   "id": "6b6abe97-12d8-4822-b436-fda020a14e30",
   "metadata": {},
   "outputs": [],
   "source": []
  },
  {
   "cell_type": "markdown",
   "id": "d0459b9d-6bb8-42e7-ab6f-984cd47704a3",
   "metadata": {},
   "source": [
    "## Mostrar los lagos con iconos de colores según su tamaño"
   ]
  },
  {
   "cell_type": "markdown",
   "id": "fd505695-f16e-439e-8761-a5b9d81c53f0",
   "metadata": {},
   "source": [
    "* ¿En qué columna están con valores categorizados los tamaños de los lagos?\n",
    "* ¿Cuáles son los tamaños?"
   ]
  },
  {
   "cell_type": "code",
   "execution_count": null,
   "id": "c04368c6-75c7-4f2f-af65-ba47f678c7a6",
   "metadata": {},
   "outputs": [],
   "source": []
  },
  {
   "cell_type": "code",
   "execution_count": null,
   "id": "d989c407-2755-4ddd-a3cc-b515655f82e1",
   "metadata": {},
   "outputs": [],
   "source": []
  },
  {
   "cell_type": "code",
   "execution_count": null,
   "id": "2a7d25ec-1ebc-4c18-bf84-08bd83ea2dc2",
   "metadata": {},
   "outputs": [],
   "source": [
    "def agregar_marca_lago(row):\n",
    "    colores = {'tamaño1': 'red', 'tamaño2': 'blue', 'tamaño3': 'green'}\n",
    "    color = colores.get(row['Sup Tamaño'], 'gray')\n",
    "    folium.CircleMarker( \n",
    "        location=[row['lat'], row['lng']],\n",
    "        radius=6,\n",
    "        color=color,\n",
    "        fill=True,\n",
    "        popup=row['Nombre']\n",
    "        ).add_to(mapa)\n"
   ]
  },
  {
   "cell_type": "code",
   "execution_count": null,
   "id": "45dc0b52-5ded-42c8-993b-aeb22cc43147",
   "metadata": {},
   "outputs": [],
   "source": [
    "lagos.apply(agregar_marca_lago, axis=1)\n",
    "mapa"
   ]
  }
 ],
 "metadata": {
  "kernelspec": {
   "display_name": "Python 3 (ipykernel)",
   "language": "python",
   "name": "python3"
  },
  "language_info": {
   "codemirror_mode": {
    "name": "ipython",
    "version": 3
   },
   "file_extension": ".py",
   "mimetype": "text/x-python",
   "name": "python",
   "nbconvert_exporter": "python",
   "pygments_lexer": "ipython3",
   "version": "3.13.3"
  }
 },
 "nbformat": 4,
 "nbformat_minor": 5
}
